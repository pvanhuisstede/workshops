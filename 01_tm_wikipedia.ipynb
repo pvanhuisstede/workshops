{
 "cells": [
  {
   "cell_type": "markdown",
   "id": "affecting-stopping",
   "metadata": {},
   "source": [
    "### Intro\n",
    "\n",
    "This notebook shows a way to work with textual content of considerable size. It is based on a web post by Bart de Goede entitled \"Building a full-text search engine in 150 lines of code\".\n",
    "\n",
    "The post, and the Python code it contains, is a good example of the practical use of the computer when dealing with a large amount of textual material: The dump of all Wikipedia abstracts."
   ]
  },
  {
   "cell_type": "markdown",
   "id": "colored-paris",
   "metadata": {},
   "source": [
    "The are various ways of getting the dataset.\n",
    "\n",
    "Simply direct your browser at the address of the dataset will start the download of the zipped file:\n",
    "\n",
    "https://dumps.wikimedia.org/enwiki/latest/enwiki-latest-abstract.xml.gz"
   ]
  },
  {
   "cell_type": "markdown",
   "id": "unable-zimbabwe",
   "metadata": {},
   "source": [
    "But one could also write a small function in Python that will do the job:"
   ]
  },
  {
   "cell_type": "code",
   "execution_count": 4,
   "id": "alleged-helping",
   "metadata": {},
   "outputs": [
    {
     "name": "stdout",
     "output_type": "stream",
     "text": [
      "Downloaded 760 Mb\r"
     ]
    }
   ],
   "source": [
    "import requests\n",
    "\n",
    "def download_wikipedia_abstracts():\n",
    "    URL = \"https://dumps.wikimedia.org/enwiki/latest/enwiki-latest-abstract.xml.gz\"\n",
    "    with requests.get(URL, stream=True) as r:\n",
    "        r.raise_for_status()\n",
    "        with open('data/enwiki-latest-abstract.xml.gz', 'wb') as f:\n",
    "            # Write every 1 Mb\n",
    "            for i, chunk in enumerate(r.iter_content(chunk_size = 1024*1024)):\n",
    "                f.write(chunk)\n",
    "                if i % 10 == 0:\n",
    "                    print(f'Downloaded {i} Mb', end='\\r')\n",
    "                    \n",
    "# download_wikipedia_abstracts()"
   ]
  },
  {
   "cell_type": "markdown",
   "id": "funded-composer",
   "metadata": {},
   "source": [
    "Either way we end up with a gzipped file of considerable size: 797.2 Mb. When we unzip the file we get an XML file of 6.3 Gb.\n",
    "\n",
    "The thing with these large files is that in order to process them one has to know what the structure of the data is. Usually one fires up an editor, but 6.3 Gb is a serious file and using Emacs I had to use its special VLF-mode to load the file in chunks (parts).\n",
    "\n",
    "In these cases some knowledge of the commandline always pays off."
   ]
  },
  {
   "cell_type": "code",
   "execution_count": 8,
   "id": "pressed-sessions",
   "metadata": {},
   "outputs": [
    {
     "name": "stdout",
     "output_type": "stream",
     "text": [
      "<feed>\r\n",
      "<doc>\r\n",
      "<title>Wikipedia: Anarchism</title>\r\n",
      "<url>https://en.wikipedia.org/wiki/Anarchism</url>\r\n",
      "<abstract>Anarchism is a political philosophy and movement that is sceptical of authority and rejects all involuntary, coercive forms of hierarchy. Anarchism calls for the abolition of the state, which it holds to be undesirable, unnecessary, and harmful.</abstract>\r\n",
      "<links>\r\n",
      "<sublink linktype=\"nav\"><anchor>Etymology, terminology and definition</anchor><link>https://en.wikipedia.org/wiki/Anarchism#Etymology,_terminology_and_definition</link></sublink>\r\n",
      "<sublink linktype=\"nav\"><anchor>History</anchor><link>https://en.wikipedia.org/wiki/Anarchism#History</link></sublink>\r\n",
      "<sublink linktype=\"nav\"><anchor>Pre-modern era</anchor><link>https://en.wikipedia.org/wiki/Anarchism#Pre-modern_era</link></sublink>\r\n",
      "<sublink linktype=\"nav\"><anchor>Modern era</anchor><link>https://en.wikipedia.org/wiki/Anarchism#Modern_era</link></sublink>\r\n"
     ]
    }
   ],
   "source": [
    "!head ../data/wikipedia/enwiki-latest-abstract.xml"
   ]
  }
 ],
 "metadata": {
  "kernelspec": {
   "display_name": "Python 3",
   "language": "python",
   "name": "python3"
  },
  "language_info": {
   "codemirror_mode": {
    "name": "ipython",
    "version": 3
   },
   "file_extension": ".py",
   "mimetype": "text/x-python",
   "name": "python",
   "nbconvert_exporter": "python",
   "pygments_lexer": "ipython3",
   "version": "3.8.5"
  }
 },
 "nbformat": 4,
 "nbformat_minor": 5
}
