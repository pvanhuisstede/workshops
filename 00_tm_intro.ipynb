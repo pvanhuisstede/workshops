{
  "nbformat": 4,
  "nbformat_minor": 5,
  "metadata": {
    "kernelspec": {
      "display_name": "Python 3",
      "language": "python",
      "name": "python3"
    },
    "language_info": {
      "codemirror_mode": {
        "name": "ipython",
        "version": 3
      },
      "file_extension": ".py",
      "mimetype": "text/x-python",
      "name": "python",
      "nbconvert_exporter": "python",
      "pygments_lexer": "ipython3",
      "version": "3.8.5"
    },
    "colab": {
      "name": "00_tm_intro.ipynb",
      "provenance": [],
      "include_colab_link": true
    }
  },
  "cells": [
    {
      "cell_type": "markdown",
      "metadata": {
        "id": "view-in-github",
        "colab_type": "text"
      },
      "source": [
        "<a href=\"https://colab.research.google.com/github/pvanhuisstede/workshops/blob/main/00_tm_intro.ipynb\" target=\"_parent\"><img src=\"https://colab.research.google.com/assets/colab-badge.svg\" alt=\"Open In Colab\"/></a>"
      ]
    },
    {
      "cell_type": "markdown",
      "metadata": {
        "id": "compressed-reference"
      },
      "source": [
        "### Introduction\n",
        "\n",
        "Learn Python in 10 days (Sams, YouTube video) or Teach Yourself Programming in 10 Years [Peter Norvig's take on the issue](https://norvig.com/21-days.html).\n",
        "\n",
        "Here the angle is pragmatic: Working with (a large amount of) text files what are the possibilities? What do you need to do some useful work? And, when things start to get more serious, how do I get to cooperate fruitfully with programmers?\n",
        "\n",
        "One thing to keep in mind during this workshop is that, when we are looking at files with code, or clever constructs on the command line, etc., we are looking at *end products*, carefully crafted, optimized, made by programmers. Often the clean code we see is not what the maker started out with, but we do not see the start and the intermediate steps (and mistakes) that resulted in the end product.\n",
        "\n",
        "So, the next half hour, we will look at some CLI magic."
      ],
      "id": "compressed-reference"
    },
    {
      "cell_type": "markdown",
      "metadata": {
        "id": "independent-promise"
      },
      "source": [
        "### Text mining intro\n",
        "\n",
        "This Jupyter notebook is meant to give you a feel for working with files in the context of textual analysis:\n",
        "\n",
        "    - I have downloaded these files from Web of Science but what is actually there? (use your editor);\n",
        "    - Right, actually I am just interested in a small portion of what I got from WoS (use some text extraction);\n",
        "    - Ok, this is not what I had in mind (go back to the source), or: prepare to do some serious pre-processing.\n",
        "\n",
        "Farfetched examples? Not at all. But one does not have to setup an extended programming environment in order to get this kind of information. Something called the \"Unix uitlities\" (working at the command line) will do nicely.\n",
        "\n",
        "The examples below are taken from Kenneth Ward Church: Unix(tm) for Poets (https://www.cs.upc.edu/~padro/Unixforpoets.pdf)\n",
        "\n",
        "Another good source is: Jeroen Janssens' Data Science at the Command Line (https://www.datascienceatthecommandline.com/1e/)."
      ],
      "id": "independent-promise"
    },
    {
      "cell_type": "markdown",
      "metadata": {
        "id": "expressed-april"
      },
      "source": [
        "### Jane Austen: Pride and prejudice\n",
        "\n",
        "The Manning book \"Natural Language Processing in Action\" (NLPIA) comes with some example files. These example files are, more often than not, prepared files. In other words, the files are already customized for the software the authors use (for example: Every sentence is on one line (terminated by a newline+) instead of have formatted text that is not wider than 79 characters, each physical line (possibly part of a sentence) ended by a newline+.\n",
        "\n",
        "The NLPIA file is: pride.txt\n",
        "\n",
        "If we open this file in our editor of choice, we \"see\" the formatting. Each sentence in the book is a paragraph, that is there are 2 newlines between sentences (here: sequences of characters terminated by a full stop). There is ONE newline that chops up a book sentence into more or less equal parts to display on the screen.\n",
        "\n",
        "This might not seem a big deal at first glance, but there are all sort of possible glitches right from the start. How many book sentences does P&P have? We can count the double newlines. In my editor that gives 1866 book sentences.\n",
        "\n",
        "Suppose our software can only deal with book sentences on one line in our file, what to do? Easy peasy: Just replace single newlines by a space and double newlines by a single newline. *What could go possibly wrong? Can you spot the caveat?*\n",
        "\n",
        "In the real world out there things are different. If we download the Jane Austen ook from Project Gutenberg, we can choose the format. In our case we choose the plain text UTF-8 file.\n",
        "\n",
        "http://www.gutenberg.org/ebooks/1342\n",
        "\n",
        "If we open this file in our editor, we see something different. The beginning of the first book sentence \"It is a truth universally acknowledged ...\" starts on line 167 in our file. Then the text becomes familiar until the very end where the sequence *** END OF ... signals text added by Project Gutenberg.\n",
        "\n",
        "The NLPIA authors simply removed the Project Gutenberg sandwich around the Jane Austen text, which makes perfect sense if one is going to do textual analysis of that text.\n",
        "\n",
        "#### Conclusions\n",
        "\n",
        "1. It pays off to know the basics of a so-called programming editor:\n",
        "\n",
        "    - Inspect what is there;\n",
        "    - Make some quick necessary changes (re-formatting, deleting the Gutenberg sandwich, etc.) When mistakes are made these editors allow for undo;\n",
        "    - When the file is saved, we save plain text in UTF-8.\n",
        "\n",
        "2. If we were to start with the Project Gutenberg file, we end up with 2 files right at the beginning of our project. We can store the PG file we got from their website as a source file (for example in a directory named \"src\" or \"raw\" and the pre-processed file in another dierctory \"wip\".\n",
        "\n",
        "3. If one really dives in files in different stages tend to pile up. If that is the case simple version control routines (we use Git) can be of tremendous help. If you reached a certain result, you check that particular result in -- as a snapshot. And just as undo comes in handy, these snapshots can be used to roll back to after you messed up things big time."
      ],
      "id": "expressed-april"
    },
    {
      "cell_type": "markdown",
      "metadata": {
        "id": "continental-capitol"
      },
      "source": [
        "Now that we have some idea of the environment we need to do our textmining work, we can explore some basic tasks without diving to deep into prgramming (yet)."
      ],
      "id": "continental-capitol"
    },
    {
      "cell_type": "markdown",
      "metadata": {
        "id": "wrong-discharge"
      },
      "source": [
        "### The Command Line Interface (CLI)\n",
        "\n",
        "The CLI or terminal a bit Unix/Linux and MacOS oriented; MS Windows users must use a workaround. For the remaining part of this workshop we will concentrate on working with Python programs and code via Jupyter notebooks. But having a glimpse of some of the CLI possibilities not only shows how powerful these tools are, but, more importantly, can show some important concepts of working with textual data:\n",
        "\n",
        "    - chunking running plain text into meaningful chunks;\n",
        "    - discarding parts of the text;\n",
        "    - pipelines, the combination of small code snippets that, in a series of steps, produce the desired outcome."
      ],
      "id": "wrong-discharge"
    },
    {
      "cell_type": "markdown",
      "metadata": {
        "id": "headed-muscle"
      },
      "source": [
        "#### Let's have a quick look at our text\n",
        "\n",
        "Let's lookup the first 5 sentences of Pride & Prejudice"
      ],
      "id": "headed-muscle"
    },
    {
      "cell_type": "code",
      "metadata": {
        "colab": {
          "base_uri": "https://localhost:8080/"
        },
        "id": "sufficient-fault",
        "outputId": "f0d782fc-b47f-4c9b-ac70-77a09c26a31d"
      },
      "source": [
        "%%bash\n",
        "sed 5q < ./workshops/data/pride.txt"
      ],
      "id": "sufficient-fault",
      "execution_count": 34,
      "outputs": [
        {
          "output_type": "stream",
          "text": [
            "﻿It is a truth universally acknowledged, that a single man in possession\r\n",
            "of a good fortune, must be in want of a wife.\r\n",
            "\r\n",
            "However little known the feelings or views of such a man may be on his\r\n",
            "first entering a neighbourhood, this truth is so well fixed in the minds\r\n"
          ],
          "name": "stdout"
        }
      ]
    },
    {
      "cell_type": "markdown",
      "metadata": {
        "id": "secondary-cyprus"
      },
      "source": [
        "#### Count words in a text\n",
        "\n",
        "We break up this task in three discrete steps:\n",
        "\n",
        "1. We break up the text into a sequence of words (or tokens => tokenizing) with tr\n",
        "2. We then sort all the words in our sequence with sort\n",
        "3. Then we count the duplicates with uniq"
      ],
      "id": "secondary-cyprus"
    },
    {
      "cell_type": "markdown",
      "metadata": {
        "id": "attempted-collaboration"
      },
      "source": [
        "Let's try to break up our text in tokens (words)"
      ],
      "id": "attempted-collaboration"
    },
    {
      "cell_type": "code",
      "metadata": {
        "colab": {
          "base_uri": "https://localhost:8080/"
        },
        "id": "higher-ballot",
        "outputId": "d0eec17b-4cdd-463d-dfee-35cbae01dcf7"
      },
      "source": [
        "%%bash\n",
        "tr -sc '[A-Z][a-z]' '[\\012*]' < ./workshops/data/pride.txt | sed 5q"
      ],
      "id": "higher-ballot",
      "execution_count": null,
      "outputs": [
        {
          "output_type": "stream",
          "text": [
            "\n",
            "It\n",
            "is\n",
            "a\n",
            "truth\n"
          ],
          "name": "stdout"
        }
      ]
    },
    {
      "cell_type": "markdown",
      "metadata": {
        "id": "outdoor-clerk"
      },
      "source": [
        "Fine, works like a charm. And, what is more important, with tr we manipulated newlines like a breeze. Usually newlines are a pain in the proverbial. They can mean the end of a line or a command (depends on the context; but remember in my editor I had to enter the magic combo 'CTRL-Q CTRL-J' twice to select all \"\\n\\n\" sequneces. Here tr let us use the octal representation of the newline char: '\\012*'. Perfect.\n",
        "\n",
        "Let's sort our sequence:"
      ],
      "id": "outdoor-clerk"
    },
    {
      "cell_type": "code",
      "metadata": {
        "colab": {
          "base_uri": "https://localhost:8080/"
        },
        "id": "neutral-knight",
        "outputId": "48f0ac29-7197-4574-f0bd-8481e8417542"
      },
      "source": [
        "%%bash\n",
        "tr -sc '[A-Z][a-z]' '[\\012*]' < ./workshops/data/pride.txt |\n",
        "sort | sed 5q"
      ],
      "id": "neutral-knight",
      "execution_count": null,
      "outputs": [
        {
          "output_type": "stream",
          "text": [
            "\n",
            "a\n",
            "a\n",
            "a\n",
            "a\n"
          ],
          "name": "stdout"
        }
      ]
    },
    {
      "cell_type": "markdown",
      "metadata": {
        "id": "infectious-constant"
      },
      "source": [
        "Next we count the number of occurences of each token:"
      ],
      "id": "infectious-constant"
    },
    {
      "cell_type": "code",
      "metadata": {
        "colab": {
          "base_uri": "https://localhost:8080/"
        },
        "id": "according-salmon",
        "outputId": "80d3d577-0249-4b67-8dd2-5d8a0538ca1b"
      },
      "source": [
        "%%bash\n",
        "tr -sc '[A-Z][a-z]' '[\\012*]' < ./workshops/data/pride.txt |\n",
        "sort |\n",
        "uniq -c | sed 5q"
      ],
      "id": "according-salmon",
      "execution_count": null,
      "outputs": [
        {
          "output_type": "stream",
          "text": [
            "      1 \n",
            "   1905 a\n",
            "     49 A\n",
            "      1 abatement\n",
            "      6 abhorrence\n"
          ],
          "name": "stdout"
        }
      ]
    },
    {
      "cell_type": "code",
      "metadata": {
        "colab": {
          "base_uri": "https://localhost:8080/"
        },
        "id": "disciplinary-eleven",
        "outputId": "c5521ed9-fa50-4933-8adc-b37caa8254cf"
      },
      "source": [
        "%%bash\n",
        "tr -sc '[A-Z][a-z]' '[\\012*]' < ./workshops/data/pride.txt |\n",
        "sort |\n",
        "uniq -c |\n",
        "sort -nr | sed 10q"
      ],
      "id": "disciplinary-eleven",
      "execution_count": null,
      "outputs": [
        {
          "output_type": "stream",
          "text": [
            "   4113 to\n",
            "   4058 the\n",
            "   3599 of\n",
            "   3430 and\n",
            "   2138 her\n",
            "   2070 I\n",
            "   1905 a\n",
            "   1843 was\n",
            "   1795 in\n",
            "   1527 that\n"
          ],
          "name": "stdout"
        }
      ]
    },
    {
      "cell_type": "markdown",
      "metadata": {
        "id": "moved-scotland"
      },
      "source": [
        "The important thing in the above code snippets are not the somewhat cryptic and terse commands, but the ease of gluing these commands together in a so-called \"pipeline\" using the Unix pipe symbol \"|\" where the output of one command becomes the input of the next. This allows for fast experimenting and adjusting our snippets.\n",
        "\n",
        "The output of the snippet in cell [4] shows that we count 1905 occurences for the lowercase 'a' and 49 for the uppercase 'A'. With our friend tr these are easily merged, we just cast all tokens to lowercase: "
      ],
      "id": "moved-scotland"
    },
    {
      "cell_type": "code",
      "metadata": {
        "colab": {
          "base_uri": "https://localhost:8080/"
        },
        "id": "large-deficit",
        "outputId": "7a5b67e7-a5cd-497e-8c65-4a33a6c315ee"
      },
      "source": [
        "%%bash\n",
        "tr '[A-Z]' '[a-z]' < ./workshops/data/pride.txt |\n",
        "tr -sc '[a-z]' '[\\012*]' |\n",
        "sort |\n",
        "uniq -c | sed 5q"
      ],
      "id": "large-deficit",
      "execution_count": null,
      "outputs": [
        {
          "output_type": "stream",
          "text": [
            "      1 \n",
            "   1954 a\n",
            "      1 abatement\n",
            "      6 abhorrence\n",
            "      1 abhorrent\n"
          ],
          "name": "stdout"
        }
      ]
    },
    {
      "cell_type": "markdown",
      "metadata": {
        "id": "generous-indiana"
      },
      "source": [
        "Right we use the new snippet for our counting pipeline, but this time we do not reverse the order, so we get the least used words first:"
      ],
      "id": "generous-indiana"
    },
    {
      "cell_type": "code",
      "metadata": {
        "colab": {
          "base_uri": "https://localhost:8080/"
        },
        "id": "possible-functionality",
        "outputId": "aec6d736-73af-4fcc-b983-20dc9b3c8d56"
      },
      "source": [
        "%%bash\n",
        "tr '[A-Z]' '[a-z]' < ./workshops/data/pride.txt |\n",
        "tr -sc '[a-z]' '[\\012*]' |\n",
        "sort |\n",
        "uniq -c |\n",
        "sort -n | sed 10q"
      ],
      "id": "possible-functionality",
      "execution_count": null,
      "outputs": [
        {
          "output_type": "stream",
          "text": [
            "      1 \n",
            "      1 abatement\n",
            "      1 abhorrent\n",
            "      1 abide\n",
            "      1 abiding\n",
            "      1 ablution\n",
            "      1 abound\n",
            "      1 abrupt\n",
            "      1 absurdity\n",
            "      1 abundant\n"
          ],
          "name": "stdout"
        }
      ]
    },
    {
      "cell_type": "markdown",
      "metadata": {
        "id": "loaded-guidance"
      },
      "source": [
        "To sum up: Pipelines are a honking good idea and together with the input '<' and output '>' operators we can move forwards quickly. We can use 'tr' to tokenize in different ways, according to the context. And we have different ways of sorting at our disposal:\n",
        "\n",
        "| Example | Explanation |\n",
        "| :- | :- |\n",
        "| sort -d | dictionary order |\n",
        "| sort -f | fold case |\n",
        "| sort -n | numeric order |\n",
        "| sort -nr | reverse numeric order |\n",
        "| sort -u | remove duplicates |\n",
        "| sort +1 | start with field 1 (start with 0) |\n",
        "| sort +0.50 | start with 50th char (of first field == 0) |\n",
        "| sort +1.5 | start with 5th char of field 1 |"
      ],
      "id": "loaded-guidance"
    },
    {
      "cell_type": "markdown",
      "metadata": {
        "id": "crude-grill"
      },
      "source": [
        "#### Bigrams\n",
        "\n",
        "Bigrams are pair of words that can present us with a somewhat better, although still limited, view of the semantics of a text because we pair 2 adjacent words, instead of a simple bag of words (bow).\n",
        "\n",
        "We start with a part of the code we used above to generate our list of words, all lowercase and we write the result to a file: pride.words.\n",
        "\n",
        "Then the new part of our code snippet: We use that file to generate a new file with all words BUT rotate them a place and output the result to a second file: pride.nextwords\n",
        "\n",
        "We can use both files to paste the lines together and save the result into "
      ],
      "id": "crude-grill"
    },
    {
      "cell_type": "code",
      "metadata": {
        "id": "central-petite"
      },
      "source": [
        "%%bash\n",
        "tr '[A-Z]' '[a-z]' < ./workshops/data/pride.txt |\n",
        "tr -sc '[a-z]' '[\\012*]' > ./workshops/data/pride.words\n",
        "tail +2 ./workshops/data/pride.words > ./workshops/data/pride.nextwords\n",
        "paste ./workshops/data/pride.words ./workshops/data/pride.nextwords |\n",
        "sort | uniq -c > ./workshops/data/pride.bigrams"
      ],
      "id": "central-petite",
      "execution_count": null,
      "outputs": []
    },
    {
      "cell_type": "markdown",
      "metadata": {
        "id": "FaD1kQr9rZE8"
      },
      "source": [
        "Let's use Bash to have a quick look at the files we generated in the code cell above."
      ],
      "id": "FaD1kQr9rZE8"
    },
    {
      "cell_type": "code",
      "metadata": {
        "id": "9pLWBtWpaSzF",
        "colab": {
          "base_uri": "https://localhost:8080/"
        },
        "outputId": "fe792c2b-6b80-4e08-f846-c18b5f3567ef"
      },
      "source": [
        "%%bash\n",
        "cd workshops/data\n",
        "ls -l"
      ],
      "id": "9pLWBtWpaSzF",
      "execution_count": null,
      "outputs": [
        {
          "output_type": "stream",
          "text": [
            "total 3840\n",
            "-rw-r--r-- 1 root root  799645 Mar 24 08:39 1342-0.txt\n",
            "-rw-r--r-- 1 root root 1098699 Mar 24 08:48 pride.bigrams\n",
            "-rw-r--r-- 1 root root  659182 Mar 24 08:48 pride.nextwords\n",
            "-rw-r--r-- 1 root root  706298 Mar 24 08:39 pride.txt\n",
            "-rw-r--r-- 1 root root  659183 Mar 24 08:48 pride.words\n"
          ],
          "name": "stdout"
        }
      ]
    },
    {
      "cell_type": "markdown",
      "metadata": {
        "id": "historical-prefix"
      },
      "source": [
        "That looks OK. We will have a look at the most used bigrams with the following snippet:"
      ],
      "id": "historical-prefix"
    },
    {
      "cell_type": "code",
      "metadata": {
        "colab": {
          "base_uri": "https://localhost:8080/"
        },
        "id": "political-system",
        "outputId": "eaf2f97c-67c4-4659-f6b1-f68d81e8755d"
      },
      "source": [
        "%%bash\n",
        "sort -nr < ./workshops/data/pride.bigrams | sed 10q"
      ],
      "id": "political-system",
      "execution_count": null,
      "outputs": [
        {
          "output_type": "stream",
          "text": [
            "    464 of\tthe\n",
            "    443 to\tbe\n",
            "    382 in\tthe\n",
            "    303 i\tam\n",
            "    273 mr\tdarcy\n",
            "    261 of\ther\n",
            "    252 to\tthe\n",
            "    251 it\twas\n",
            "    235 of\this\n",
            "    212 she\twas\n"
          ],
          "name": "stdout"
        }
      ]
    },
    {
      "cell_type": "markdown",
      "metadata": {
        "id": "ancient-coach"
      },
      "source": [
        "#### Grep and friends\n",
        "\n",
        "Another way of quickly scanning texts and selecting lines containin some words is to use the grep utility (or one of its friends: egrep, ack, etc.).\n",
        "\n",
        "Suppose we are interested in lines that contain a reference to Mr. Darcy, we can use the following command:"
      ],
      "id": "ancient-coach"
    },
    {
      "cell_type": "code",
      "metadata": {
        "id": "coastal-writing",
        "colab": {
          "base_uri": "https://localhost:8080/"
        },
        "outputId": "2825b136-7433-4a77-c225-d1118d6f98c2"
      },
      "source": [
        "%%bash\n",
        "grep 'Darcy' ./workshops/data/pride.txt | sed 5q"
      ],
      "id": "coastal-writing",
      "execution_count": null,
      "outputs": [
        {
          "output_type": "stream",
          "text": [
            "looked the gentleman; but his friend Mr. Darcy soon drew the attention\r\n",
            "themselves. What a contrast between him and his friend! Mr. Darcy danced\r\n",
            "down for two dances; and during part of that time, Mr. Darcy had been\r\n",
            "“Come, Darcy,” said he, “I must have you dance. I hate to see you\r\n",
            "Darcy, looking at the eldest Miss Bennet.\r\n"
          ],
          "name": "stdout"
        }
      ]
    },
    {
      "cell_type": "markdown",
      "metadata": {
        "id": "solved-energy"
      },
      "source": [
        "But we can also use our new bigrams file to grep bigrams with Darcy:"
      ],
      "id": "solved-energy"
    },
    {
      "cell_type": "code",
      "metadata": {
        "id": "indoor-council",
        "colab": {
          "base_uri": "https://localhost:8080/"
        },
        "outputId": "e91f6fe1-78ec-4561-b6d1-ebc2fa774f93"
      },
      "source": [
        "%%bash\n",
        "grep 'darcy' ./workshops/data/pride.bigrams | sed 5q"
      ],
      "id": "indoor-council",
      "execution_count": null,
      "outputs": [
        {
          "output_type": "stream",
          "text": [
            "      1 a\tdarcy\n",
            "      1 added\tdarcy\n",
            "      1 affairs\tdarcy\n",
            "      1 all\tdarcy\n",
            "      8 and\tdarcy\n"
          ],
          "name": "stdout"
        }
      ]
    },
    {
      "cell_type": "markdown",
      "metadata": {
        "id": "expressed-estate"
      },
      "source": [
        "In the two bigram examples above we see that one has to be very interested in the use of the little words like \"of\", \"to\", \"in\", \"a\", and \"all\" by Jane Austen in order to appreciate the information generated. Depending on the questions we have, we often want to discard certain parts, words of a text, in oder to be able to concentrate on the parts we are interested in.\n",
        "\n",
        "Let's use our friend grep to filter out some of the stopwords.\n",
        "\n",
        "For that we make a file \"stopwords\" that contains the words, each on a line of its own, that we are NOT interested in."
      ],
      "id": "expressed-estate"
    },
    {
      "cell_type": "code",
      "metadata": {
        "colab": {
          "resources": {
            "http://localhost:8080/nbextensions/google.colab/files.js": {
              "data": "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",
              "ok": true,
              "headers": [
                [
                  "content-type",
                  "application/javascript"
                ]
              ],
              "status": 200,
              "status_text": ""
            }
          },
          "base_uri": "https://localhost:8080/",
          "height": 72
        },
        "id": "PPnbk78awRHP",
        "outputId": "b276cd0d-ca69-4483-b244-9275e5837c8d"
      },
      "source": [
        "from google.colab import files\n",
        "uploaded = files.upload()"
      ],
      "id": "PPnbk78awRHP",
      "execution_count": 36,
      "outputs": [
        {
          "output_type": "display_data",
          "data": {
            "text/html": [
              "\n",
              "     <input type=\"file\" id=\"files-02fe678c-c418-4cf4-8cd8-951d86964d1b\" name=\"files[]\" multiple disabled\n",
              "        style=\"border:none\" />\n",
              "     <output id=\"result-02fe678c-c418-4cf4-8cd8-951d86964d1b\">\n",
              "      Upload widget is only available when the cell has been executed in the\n",
              "      current browser session. Please rerun this cell to enable.\n",
              "      </output>\n",
              "      <script src=\"/nbextensions/google.colab/files.js\"></script> "
            ],
            "text/plain": [
              "<IPython.core.display.HTML object>"
            ]
          },
          "metadata": {
            "tags": []
          }
        },
        {
          "output_type": "stream",
          "text": [
            "Saving stopwords to stopwords\n"
          ],
          "name": "stdout"
        }
      ]
    },
    {
      "cell_type": "code",
      "metadata": {
        "id": "-8_axs1Nwvcj"
      },
      "source": [
        "%%bash\n",
        "mv stopwords workshops/data/"
      ],
      "id": "-8_axs1Nwvcj",
      "execution_count": 41,
      "outputs": []
    },
    {
      "cell_type": "code",
      "metadata": {
        "id": "unique-banks",
        "colab": {
          "base_uri": "https://localhost:8080/"
        },
        "outputId": "eeba8806-e125-416d-a781-d913f816eb77"
      },
      "source": [
        "%%bash\n",
        "tr '[A-Z]' '[a-z]' < ./workshops/data/pride.txt |\n",
        "tr -sc '[a-z]' '[\\012*]' > ./workshops/data/pride.words\n",
        "tail +2 ./workshops/data/pride.words > ./workshops/data/pride.nextwords\n",
        "paste ./workshops/data/pride.words ./workshops/data/pride.nextwords |\n",
        "grep -v -w -f ./workshops/data/stopwords |\n",
        "sort | uniq -c > ./workshops/data/pride.bigrams\n",
        "sort -nr < ./workshops/data/pride.bigrams | sed 10q"
      ],
      "id": "unique-banks",
      "execution_count": 42,
      "outputs": [
        {
          "output_type": "stream",
          "text": [
            "    200 had\tbeen\n",
            "    167 could\tnot\n",
            "    166 he\thad\n",
            "    153 mrs\tbennet\n",
            "    135 have\tbeen\n",
            "    133 they\twere\n",
            "    132 did\tnot\n",
            "    124 do\tnot\n",
            "    120 my\tdear\n",
            "    116 lady\tcatherine\n"
          ],
          "name": "stdout"
        }
      ]
    },
    {
      "cell_type": "markdown",
      "metadata": {
        "id": "differential-martin"
      },
      "source": [
        "### Conclusions\n",
        "\n",
        "We covered a lot of ground.\n",
        "\n",
        "#### Small is beautiful\n",
        "\n",
        "Depending on the files you start to work with, you should be prepared to do some cleaning up. Depending on the sources you have and the questions you have, you further tailor the sources to work with. If you want do sentiment analysis, do not throw away emoticons (the images or the punctuation marks:-). If you are interested in gender issues in the works of Jane Austen, you probably should keep small words like: Mr., Mrs, and Miss.\n",
        "\n",
        "The small programs we used above are so-called Unix utilities. You will have to work on a Unix, Linux or MacOS machine to be able to use them. And they much more powerful then we have showed here.\n",
        "\n",
        "Here they were just used to give you an idea of what it is to work with texts. You have to be able to see what you have got to work with, for example by using a plain text editor.\n",
        "\n",
        "#### Infrastructure is important\n",
        "\n",
        "Even with the small examples above our data subdirectory now contains 6 files. We started with the text file of Pride and Prejudice and generated/uploaded 5 files. Somehow we must keep track of the intermediates and results we generate: Version control software.\n",
        "\n",
        "What we did and why we did what we did is stated in this file. A so-called Jupyter notebook in which we can use text cells together with cells that contain code and generate the results of running that code. Reproducible research.\n",
        "\n",
        "We \n",
        "\n",
        "We could have done a lot more with the Jane Austen book. Analyse the sentences in which the male characters are mentioned against the ones in which the female characters play a role. Zoom in on the sentences that contain dialogue. Or we could have "
      ],
      "id": "differential-martin"
    }
  ]
}